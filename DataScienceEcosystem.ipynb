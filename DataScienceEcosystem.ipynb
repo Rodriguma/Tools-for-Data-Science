{
 "cells": [
  {
   "cell_type": "markdown",
   "id": "d97467f1-a735-4650-b552-b68972179354",
   "metadata": {},
   "source": [
    "# Data Science Tools and Ecosystem"
   ]
  },
  {
   "cell_type": "markdown",
   "id": "38fe46ae-5f5a-4ab3-a382-413f73aed642",
   "metadata": {},
   "source": [
    "In this notebook, Data Science Tools and Ecosystem are summarized."
   ]
  },
  {
   "cell_type": "markdown",
   "id": "8a3b4a15-0d49-42d2-bb69-6ec31caa9eb2",
   "metadata": {},
   "source": [
    "__Objectives:__\n",
    "- List popular languages for Data Science\n",
    "- List popular libraries for Data Science\n",
    "- List of some development environment opensource tools used in data science"
   ]
  },
  {
   "cell_type": "markdown",
   "id": "009ceb00-742a-4404-95c8-78238fca6a3a",
   "metadata": {},
   "source": [
    "Some of the popular languages that Data Scientists use are:\n",
    "1. Python\n",
    "2. R\n",
    "3. SQL\n",
    "4. Scala\n",
    "5. Java\n",
    "6. C++\n",
    "7. Julia"
   ]
  },
  {
   "cell_type": "markdown",
   "id": "56ce494f-a6a3-49ed-a2ce-cc875ba1e8e7",
   "metadata": {},
   "source": [
    "Some of the commonly used libraries used by Data Scientists include:\n",
    "1. Pandas (Python)\n",
    "2. NumPy (Python)\n",
    "3. Matplotlib (Python)\n",
    "4. Seaborn (Python)\n",
    "5. Scikit-learn (Python)\n",
    "6. Keras (Python)\n",
    "7. TensorFlow (Python)\n",
    "8. Pytorch (Python)\n",
    "9. Apache Spark\n",
    "10. Vegas (Scala)\n",
    "11. BigDL (Scala)\n",
    "12. ggplot2 (R)\n",
    "13. caret (R)"
   ]
  },
  {
   "cell_type": "markdown",
   "id": "d8c2aaf5-632f-4e6c-93b3-03453f68b741",
   "metadata": {},
   "source": [
    "| Data Science Tools |\n",
    "| ------------------ |\n",
    "| Jupyter Notebooks |\n",
    "| Jupyteer lab |\n",
    "| Apache Zeppelin |\n",
    "| RStudio |\n",
    "| Apache |"
   ]
  },
  {
   "cell_type": "markdown",
   "id": "99f546ea-e37f-4585-8317-6381668b01e9",
   "metadata": {},
   "source": [
    "### Below are a few examples of evaluating arithmetic expressions in Python"
   ]
  },
  {
   "cell_type": "code",
   "execution_count": null,
   "id": "369a3653-22c4-4539-89ea-429fb8e5aacc",
   "metadata": {},
   "outputs": [],
   "source": [
    "# This a simple arithmetic expression to mutiply then add integers\n",
    "(3*4)+5"
   ]
  },
  {
   "cell_type": "code",
   "execution_count": null,
   "id": "4a1d9853-9d9e-4f8f-a842-ad5622fd671d",
   "metadata": {},
   "outputs": [],
   "source": [
    "# This will convert 200 minutes to hours by diving by 60\n",
    "200/60"
   ]
  },
  {
   "cell_type": "markdown",
   "id": "1da1c8aa-e22b-4fd3-ae7d-b9730eb1e781",
   "metadata": {},
   "source": [
    "## Author\n",
    "Marta R."
   ]
  }
 ],
 "metadata": {
  "kernelspec": {
   "display_name": "Python 3 (ipykernel)",
   "language": "python",
   "name": "python3"
  },
  "language_info": {
   "codemirror_mode": {
    "name": "ipython",
    "version": 3
   },
   "file_extension": ".py",
   "mimetype": "text/x-python",
   "name": "python",
   "nbconvert_exporter": "python",
   "pygments_lexer": "ipython3",
   "version": "3.12.4"
  }
 },
 "nbformat": 4,
 "nbformat_minor": 5
}
